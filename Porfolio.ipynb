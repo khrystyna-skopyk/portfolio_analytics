{
 "cells": [
  {
   "cell_type": "code",
   "execution_count": 1,
   "id": "9ef5d9f8-497d-4999-9284-55b6766aee9e",
   "metadata": {},
   "outputs": [
    {
     "name": "stdout",
     "output_type": "stream",
     "text": [
      "Collecting quandl\n",
      "  Downloading Quandl-3.7.0-py2.py3-none-any.whl (26 kB)\n",
      "Requirement already satisfied: numpy in /Users/khrystynas/opt/anaconda3/lib/python3.8/site-packages (1.20.1)\n",
      "Collecting numpy\n",
      "  Downloading numpy-1.21.4-cp38-cp38-macosx_10_9_x86_64.whl (16.9 MB)\n",
      "     |████████████████████████████████| 16.9 MB 8.1 MB/s            \n",
      "\u001b[?25hRequirement already satisfied: pandas in /Users/khrystynas/opt/anaconda3/lib/python3.8/site-packages (1.2.4)\n",
      "Collecting pandas\n",
      "  Downloading pandas-1.3.4-cp38-cp38-macosx_10_9_x86_64.whl (11.4 MB)\n",
      "     |████████████████████████████████| 11.4 MB 6.9 MB/s            \n",
      "\u001b[?25hRequirement already satisfied: requests in /Users/khrystynas/opt/anaconda3/lib/python3.8/site-packages (2.25.1)\n",
      "Collecting requests\n",
      "  Using cached requests-2.26.0-py2.py3-none-any.whl (62 kB)\n",
      "Collecting pandas-datareader\n",
      "  Downloading pandas_datareader-0.10.0-py3-none-any.whl (109 kB)\n",
      "     |████████████████████████████████| 109 kB 8.0 MB/s            \n",
      "\u001b[?25hCollecting DateTime\n",
      "  Downloading DateTime-4.3-py2.py3-none-any.whl (60 kB)\n",
      "     |████████████████████████████████| 60 kB 7.2 MB/s             \n",
      "\u001b[?25hCollecting yahoo_fin\n",
      "  Downloading yahoo_fin-0.8.9.1-py3-none-any.whl (10 kB)\n",
      "Requirement already satisfied: seaborn in /Users/khrystynas/opt/anaconda3/lib/python3.8/site-packages (0.11.1)\n",
      "Collecting seaborn\n",
      "  Downloading seaborn-0.11.2-py3-none-any.whl (292 kB)\n",
      "     |████████████████████████████████| 292 kB 10.7 MB/s            \n",
      "\u001b[?25hRequirement already satisfied: scipy in /Users/khrystynas/opt/anaconda3/lib/python3.8/site-packages (1.6.2)\n",
      "Collecting scipy\n",
      "  Downloading scipy-1.7.2-cp38-cp38-macosx_10_9_x86_64.whl (33.0 MB)\n",
      "     |████████████████████████████████| 33.0 MB 5.5 MB/s             \n",
      "\u001b[?25hCollecting numpy-financial\n",
      "  Downloading numpy_financial-1.0.0-py3-none-any.whl (14 kB)\n",
      "Requirement already satisfied: python-dateutil in /Users/khrystynas/opt/anaconda3/lib/python3.8/site-packages (from quandl) (2.8.1)\n",
      "Collecting inflection>=0.3.1\n",
      "  Downloading inflection-0.5.1-py2.py3-none-any.whl (9.5 kB)\n",
      "Requirement already satisfied: six in /Users/khrystynas/opt/anaconda3/lib/python3.8/site-packages (from quandl) (1.15.0)\n",
      "Requirement already satisfied: more-itertools in /Users/khrystynas/opt/anaconda3/lib/python3.8/site-packages (from quandl) (8.7.0)\n",
      "Requirement already satisfied: pytz>=2017.3 in /Users/khrystynas/opt/anaconda3/lib/python3.8/site-packages (from pandas) (2021.1)\n",
      "Requirement already satisfied: urllib3<1.27,>=1.21.1 in /Users/khrystynas/opt/anaconda3/lib/python3.8/site-packages (from requests) (1.26.4)\n",
      "Requirement already satisfied: certifi>=2017.4.17 in /Users/khrystynas/opt/anaconda3/lib/python3.8/site-packages (from requests) (2020.12.5)\n",
      "Collecting charset-normalizer~=2.0.0\n",
      "  Downloading charset_normalizer-2.0.7-py3-none-any.whl (38 kB)\n",
      "Requirement already satisfied: idna<4,>=2.5 in /Users/khrystynas/opt/anaconda3/lib/python3.8/site-packages (from requests) (2.10)\n",
      "Requirement already satisfied: lxml in /Users/khrystynas/opt/anaconda3/lib/python3.8/site-packages (from pandas-datareader) (4.6.3)\n",
      "Requirement already satisfied: zope.interface in /Users/khrystynas/opt/anaconda3/lib/python3.8/site-packages (from DateTime) (5.3.0)\n",
      "Requirement already satisfied: feedparser in /Users/khrystynas/opt/anaconda3/lib/python3.8/site-packages (from yahoo_fin) (6.0.8)\n",
      "Collecting requests-html\n",
      "  Downloading requests_html-0.10.0-py3-none-any.whl (13 kB)\n",
      "Requirement already satisfied: matplotlib>=2.2 in /Users/khrystynas/opt/anaconda3/lib/python3.8/site-packages (from seaborn) (3.3.4)\n",
      "Requirement already satisfied: pillow>=6.2.0 in /Users/khrystynas/opt/anaconda3/lib/python3.8/site-packages (from matplotlib>=2.2->seaborn) (8.2.0)\n",
      "Requirement already satisfied: kiwisolver>=1.0.1 in /Users/khrystynas/opt/anaconda3/lib/python3.8/site-packages (from matplotlib>=2.2->seaborn) (1.3.1)\n",
      "Requirement already satisfied: cycler>=0.10 in /Users/khrystynas/opt/anaconda3/lib/python3.8/site-packages (from matplotlib>=2.2->seaborn) (0.10.0)\n",
      "Requirement already satisfied: pyparsing!=2.0.4,!=2.1.2,!=2.1.6,>=2.0.3 in /Users/khrystynas/opt/anaconda3/lib/python3.8/site-packages (from matplotlib>=2.2->seaborn) (2.4.7)\n",
      "Requirement already satisfied: sgmllib3k in /Users/khrystynas/opt/anaconda3/lib/python3.8/site-packages (from feedparser->yahoo_fin) (1.0.0)\n",
      "Collecting fake-useragent\n",
      "  Downloading fake-useragent-0.1.11.tar.gz (13 kB)\n",
      "  Preparing metadata (setup.py) ... \u001b[?25ldone\n",
      "\u001b[?25hCollecting w3lib\n",
      "  Using cached w3lib-1.22.0-py2.py3-none-any.whl (20 kB)\n",
      "Collecting parse\n",
      "  Downloading parse-1.19.0.tar.gz (30 kB)\n",
      "  Preparing metadata (setup.py) ... \u001b[?25ldone\n",
      "\u001b[?25hCollecting pyquery\n",
      "  Downloading pyquery-1.4.3-py3-none-any.whl (22 kB)\n",
      "Collecting bs4\n",
      "  Using cached bs4-0.0.1.tar.gz (1.1 kB)\n",
      "  Preparing metadata (setup.py) ... \u001b[?25ldone\n",
      "\u001b[?25hCollecting pyppeteer>=0.0.14\n",
      "  Downloading pyppeteer-0.2.6-py3-none-any.whl (83 kB)\n",
      "     |████████████████████████████████| 83 kB 3.9 MB/s             \n",
      "\u001b[?25hRequirement already satisfied: setuptools in /Users/khrystynas/opt/anaconda3/lib/python3.8/site-packages (from zope.interface->DateTime) (58.5.3)\n",
      "Requirement already satisfied: appdirs<2.0.0,>=1.4.3 in /Users/khrystynas/opt/anaconda3/lib/python3.8/site-packages (from pyppeteer>=0.0.14->requests-html->yahoo_fin) (1.4.4)\n",
      "Collecting websockets<10.0,>=9.1\n",
      "  Downloading websockets-9.1-cp38-cp38-macosx_10_9_x86_64.whl (88 kB)\n",
      "     |████████████████████████████████| 88 kB 3.6 MB/s             \n",
      "\u001b[?25hRequirement already satisfied: importlib-metadata>=1.4 in /Users/khrystynas/opt/anaconda3/lib/python3.8/site-packages (from pyppeteer>=0.0.14->requests-html->yahoo_fin) (3.10.0)\n",
      "Collecting pyee<9.0.0,>=8.1.0\n",
      "  Downloading pyee-8.2.2-py2.py3-none-any.whl (12 kB)\n",
      "Requirement already satisfied: tqdm<5.0.0,>=4.42.1 in /Users/khrystynas/opt/anaconda3/lib/python3.8/site-packages (from pyppeteer>=0.0.14->requests-html->yahoo_fin) (4.49.0)\n",
      "Requirement already satisfied: beautifulsoup4 in /Users/khrystynas/opt/anaconda3/lib/python3.8/site-packages (from bs4->requests-html->yahoo_fin) (4.9.3)\n",
      "Collecting cssselect>0.7.9\n",
      "  Using cached cssselect-1.1.0-py2.py3-none-any.whl (16 kB)\n",
      "Requirement already satisfied: zipp>=0.5 in /Users/khrystynas/opt/anaconda3/lib/python3.8/site-packages (from importlib-metadata>=1.4->pyppeteer>=0.0.14->requests-html->yahoo_fin) (3.4.1)\n",
      "Requirement already satisfied: soupsieve>1.2 in /Users/khrystynas/opt/anaconda3/lib/python3.8/site-packages (from beautifulsoup4->bs4->requests-html->yahoo_fin) (2.2.1)\n",
      "Building wheels for collected packages: bs4, fake-useragent, parse\n",
      "  Building wheel for bs4 (setup.py) ... \u001b[?25ldone\n",
      "\u001b[?25h  Created wheel for bs4: filename=bs4-0.0.1-py3-none-any.whl size=1271 sha256=50aacdecab8d792921e42159fb76ced1954fb9b4be1e6cc66dcef5c5ab75fb4e\n",
      "  Stored in directory: /Users/khrystynas/Library/Caches/pip/wheels/75/78/21/68b124549c9bdc94f822c02fb9aa3578a669843f9767776bca\n",
      "  Building wheel for fake-useragent (setup.py) ... \u001b[?25ldone\n",
      "\u001b[?25h  Created wheel for fake-useragent: filename=fake_useragent-0.1.11-py3-none-any.whl size=13502 sha256=6780f705ba6fb3719111e921cf091f9cc1072ebaa7fb962a5f601e4d1478d2c0\n",
      "  Stored in directory: /Users/khrystynas/Library/Caches/pip/wheels/a0/b8/b7/8c942b2c5be5158b874a88195116b05ad124bac795f6665e65\n",
      "  Building wheel for parse (setup.py) ... \u001b[?25ldone\n",
      "\u001b[?25h  Created wheel for parse: filename=parse-1.19.0-py3-none-any.whl size=24591 sha256=e19c1be1c148e833bf3d2e227dc9813d3bf242e0df55fe180b03fb8fba3d376f\n",
      "  Stored in directory: /Users/khrystynas/Library/Caches/pip/wheels/e5/33/1f/68392720485b3ecf125a69e700baaab7624616deedea2fa6e2\n",
      "Successfully built bs4 fake-useragent parse\n",
      "Installing collected packages: websockets, pyee, cssselect, charset-normalizer, w3lib, requests, pyquery, pyppeteer, parse, numpy, fake-useragent, bs4, scipy, requests-html, pandas, inflection, yahoo-fin, seaborn, quandl, pandas-datareader, numpy-financial, DateTime\n",
      "  Attempting uninstall: requests\n",
      "    Found existing installation: requests 2.25.1\n",
      "    Uninstalling requests-2.25.1:\n",
      "      Successfully uninstalled requests-2.25.1\n",
      "  Attempting uninstall: numpy\n",
      "    Found existing installation: numpy 1.20.1\n",
      "    Uninstalling numpy-1.20.1:\n",
      "      Successfully uninstalled numpy-1.20.1\n"
     ]
    },
    {
     "name": "stdout",
     "output_type": "stream",
     "text": [
      "  Attempting uninstall: scipy\n",
      "    Found existing installation: scipy 1.6.2\n",
      "    Uninstalling scipy-1.6.2:\n",
      "      Successfully uninstalled scipy-1.6.2\n",
      "  Attempting uninstall: pandas\n",
      "    Found existing installation: pandas 1.2.4\n",
      "    Uninstalling pandas-1.2.4:\n",
      "      Successfully uninstalled pandas-1.2.4\n",
      "  Attempting uninstall: seaborn\n",
      "    Found existing installation: seaborn 0.11.1\n",
      "    Uninstalling seaborn-0.11.1:\n",
      "      Successfully uninstalled seaborn-0.11.1\n",
      "\u001b[31mERROR: pip's dependency resolver does not currently take into account all the packages that are installed. This behaviour is the source of the following dependency conflicts.\n",
      "conda-repo-cli 1.0.4 requires pathlib, which is not installed.\n",
      "anaconda-project 0.9.1 requires ruamel-yaml, which is not installed.\u001b[0m\n",
      "Successfully installed DateTime-4.3 bs4-0.0.1 charset-normalizer-2.0.7 cssselect-1.1.0 fake-useragent-0.1.11 inflection-0.5.1 numpy-1.21.4 numpy-financial-1.0.0 pandas-1.3.4 pandas-datareader-0.10.0 parse-1.19.0 pyee-8.2.2 pyppeteer-0.2.6 pyquery-1.4.3 quandl-3.7.0 requests-2.26.0 requests-html-0.10.0 scipy-1.7.2 seaborn-0.11.2 w3lib-1.22.0 websockets-9.1 yahoo-fin-0.8.9.1\n"
     ]
    }
   ],
   "source": [
    "!pip install -U quandl numpy pandas requests pandas-datareader DateTime yahoo_fin seaborn scipy numpy-financial"
   ]
  },
  {
   "cell_type": "code",
   "execution_count": 2,
   "id": "c55a782b-fe3a-46af-92da-209c30af7625",
   "metadata": {},
   "outputs": [],
   "source": [
    "import pandas as pd\n",
    "import numpy as np\n",
    "import datetime\n",
    "import seaborn as sns\n",
    "import matplotlib.pyplot as plt\n",
    "import random\n",
    "import numpy_financial as npf\n",
    "import json\n",
    "import requests\n",
    "from statistics import NormalDist\n",
    "from scipy.optimize import minimize\n",
    "from scipy import stats\n",
    "from pandas_datareader import data, wb\n",
    "from yahoo_fin import stock_info as si\n",
    "from datetime import datetime, timedelta\n",
    "from dateutil.relativedelta import relativedelta"
   ]
  },
  {
   "cell_type": "markdown",
   "id": "16ca1034-572f-498a-a8a3-4e98707efb06",
   "metadata": {},
   "source": [
    "# Utils"
   ]
  },
  {
   "cell_type": "code",
   "execution_count": 11,
   "id": "5bcb118d-226f-4100-8471-d6a8f615b8de",
   "metadata": {},
   "outputs": [],
   "source": [
    "def calculate_return(annual_return, weights):\n",
    "    return sum(annual_return * weights.T)\n",
    "\n",
    "def calculate_volatility(cov_metrix, weights):\n",
    "    portfolio_variance = np.dot(weights.T, np.dot(cov_metrix, weights))\n",
    "    #standard deviation (risk of portfolio)\n",
    "    portfolio_risk = np.sqrt(portfolio_variance)\n",
    "    return portfolio_risk\n",
    "\n",
    "def calculate_sharpe_ratio(p_return, p_risk):\n",
    "    return p_return / p_risk\n",
    "\n",
    "def neg_sharpe(weights, cov_matrix, annual_returns):\n",
    "    p_risk = calculate_volatility(cov_matrix, weights)\n",
    "    p_return = calculate_return(annual_returns, weights)\n",
    "    return calculate_sharpe_ratio(p_return, p_risk) * -1\n",
    "\n",
    "def simulate_portfolio_returns(years, annual_payment, initial_investment, p_return, p_risk):\n",
    "    portfolio_distribution = NormalDist(mu=p_return, sigma=p_risk)\n",
    "    r_0 = portfolio_distribution.inv_cdf(random.random())\n",
    "    d = {\n",
    "        \"return\": [portfolio_distribution.inv_cdf(random.random())],\n",
    "        \"balance\": [initial_investment + initial_investment * r_0 + annual_payment],\n",
    "    }\n",
    "    for year in range(years):\n",
    "        investement = d[\"balance\"][len(d[\"balance\"]) - 1]\n",
    "        return_this_year = portfolio_distribution.inv_cdf(random.random())\n",
    "        balance = investement + investement * return_this_year + annual_payment\n",
    "        d[\"return\"].append(return_this_year)\n",
    "        d[\"balance\"].append(balance)\n",
    "    return pd.DataFrame.from_dict(d)\n",
    "\n",
    "def simulate_ending_balances(n, years, annual_payment, initial_investment, p_return, p_risk):\n",
    "    result = []\n",
    "    for i in range(n):\n",
    "        returns = simulate_portfolio_returns(years, annual_payment, initial_investment, p_return, p_risk)\n",
    "        ending_balance = returns.iloc[-1:][\"balance\"]\n",
    "        result.append(float(ending_balance))\n",
    "    return np.array(result)\n",
    "\n",
    "def generate_portfolios(tickers, cov_metrix, annual_returns, num_portfolios):\n",
    "    num_assets = len(tickers)\n",
    "    # values = [weights..., volatility, return, sharp_ratio]\n",
    "    values = []\n",
    "    for single_portfolio in range(num_portfolios):\n",
    "        row = []\n",
    "        weights = np.random.random(num_assets)\n",
    "        weights /= np.sum(weights)\n",
    "        row.extend(weights)\n",
    "        \n",
    "        p_risk = calculate_volatility(cov_metrix, weights)\n",
    "        p_return = calculate_return(annual_returns, weights)\n",
    "        \n",
    "        row.append(p_risk)\n",
    "        row.append(p_return)\n",
    "        row.append(calculate_sharpe_ratio(p_return, p_risk))\n",
    "        values.append(row)\n",
    "        \n",
    "    headers = tickers.copy()\n",
    "    headers.extend(['risk', 'return', 'sharpe_ratio'])\n",
    "    return pd.DataFrame(values, columns=headers)\n",
    "\n",
    "def get_best_portfolio_optimized(tickers, cov_matrix, annual_returns, fn, method, constraints, bounds):\n",
    "    opt_results = minimize(\n",
    "        fn, \n",
    "        init_guess,\n",
    "        method=method,\n",
    "        bounds=bounds, \n",
    "        constraints=constraints,\n",
    "        args=(cov_matrix, annual_returns),\n",
    "    )\n",
    "    opt_weights = opt_results.x\n",
    "    p_risk = calculate_volatility(cov_matrix, opt_weights)\n",
    "    p_return = calculate_return(annual_returns, opt_weights)\n",
    "    sharpe_ratio = calculate_sharpe_ratio(p_return, p_risk)\n",
    "    \n",
    "    row = list(opt_weights) + [p_risk, p_return, sharpe_ratio]\n",
    "    headers = tickers.copy()\n",
    "    headers.extend(['risk', 'return', 'sharp_ratio'])\n",
    "    return pd.DataFrame([row], columns=headers)\n",
    "\n",
    "def remove_prefix(text, prefix):\n",
    "    if text.startswith(prefix):\n",
    "        return text[len(prefix):]\n",
    "    return text\n",
    "\n",
    "def get_us_treasuries_yield():\n",
    "    url = \"https://quote.cnbc.com/quote-html-webservice/quote.htm\"\n",
    "    params = {\n",
    "        \"noform\": \"1\",\n",
    "        \"partnerId\": \"2\",\n",
    "        \"fund\": \"1\",\n",
    "        \"exthrs\": \"0\",\n",
    "        \"output\": \"json\",\n",
    "        \"symbolType\": \"issue\",\n",
    "        \"symbols\": \"5093148|5093149|5093150|15183113|5093151|5093158|5093159|19892965|5093160|135058359|5093168\",\n",
    "        \"requestMethod\": \"extended\",\n",
    "    }\n",
    "    data = requests.get(url, params=params).json()\n",
    "    result = {\n",
    "        \"symbol\": [],\n",
    "        \"last\": [],\n",
    "    }\n",
    "    for q in data[\"ExtendedQuoteResult\"][\"ExtendedQuote\"]:\n",
    "        result[\"symbol\"].append(q[\"QuickQuote\"][\"symbol\"])\n",
    "        result[\"last\"].append(q[\"QuickQuote\"][\"last\"])\n",
    "    return pd.DataFrame.from_dict(result)"
   ]
  },
  {
   "cell_type": "markdown",
   "id": "ec411a23-57e6-41c1-8a44-70215df69b46",
   "metadata": {},
   "source": [
    "# Inputs\n",
    "\n",
    "**tickers** - list of tickers in your portfolio\n",
    "\n",
    "**asset_type** - type of asset asociated with ticker\n",
    "\n",
    "**positions** - number of positions for each asset in your portfolio\n",
    "\n",
    "**historical_data_years** - number of years to fetch the historical data for\n",
    "\n",
    "**investment_years** - number of years to use for portfolio future value simulation\n",
    "\n",
    "**annual_payment** - annual payment that you're planning to invest during your **investment_years** period\n",
    "\n",
    "**initial_investment** - amount of money you're planning to start your investment with\n",
    "\n",
    "**simulations_number** - number of simulations to use in portfolio optimisation"
   ]
  },
  {
   "cell_type": "code",
   "execution_count": 12,
   "id": "11ecfc69-1d97-4442-baa5-0c46417f4045",
   "metadata": {},
   "outputs": [
    {
     "name": "stdout",
     "output_type": "stream",
     "text": [
      "US Treasuries Yield:\n",
      "\n",
      "   symbol   last\n",
      "0    US1M  0.051\n",
      "1    US3M  0.048\n",
      "2    US6M  0.063\n",
      "3    US1Y  0.165\n",
      "4    US2Y   0.52\n",
      "5    US3Y  0.864\n",
      "6    US5Y  1.254\n",
      "7    US7Y  1.503\n",
      "8   US10Y   1.62\n",
      "9   US20Y  2.038\n",
      "10  US30Y  2.003\n",
      "\n",
      "30 years US treasuries yield used as risk free rate:  0.020030000000000003\n"
     ]
    }
   ],
   "source": [
    "# Portfolio inputs:\n",
    "tickers = ['IVV', 'GLD']\n",
    "asset_class = ['stock', 'commodity']\n",
    "positions = [110, 200]\n",
    "historical_data_years = 10\n",
    "\n",
    "# Project portfolio for 30 years from now\n",
    "investment_years = 30\n",
    "annual_payment = 1000\n",
    "initial_investment = 10000\n",
    "\n",
    "simulations_number = 100000\n",
    "np.random.seed(123)\n",
    "\n",
    "# Some dynamic input\n",
    "treasury_bills_yield = get_us_treasuries_yield()\n",
    "risk_free_rate = float(treasury_bills_yield.iloc[-1][\"last\"]) / 100\n",
    "live_prices = [si.get_live_price(ticker) for ticker in tickers]\n",
    "\n",
    "print(\"US Treasuries Yield:\\n\")\n",
    "print(treasury_bills_yield)\n",
    "print(\"\\n30 years US treasuries yield used as risk free rate: \", risk_free_rate)"
   ]
  },
  {
   "cell_type": "markdown",
   "id": "e7bf39b3-1320-4cd6-9f7c-3f19aeebb7be",
   "metadata": {},
   "source": [
    "# Basic info\n",
    "\n",
    "In this section we will see what are the weight of each asset and what balance between asset classes portfolio has"
   ]
  },
  {
   "cell_type": "code",
   "execution_count": 13,
   "id": "e8c047ba-2d6c-49ea-ad7e-fec4ae9c5ca5",
   "metadata": {},
   "outputs": [
    {
     "data": {
      "text/html": [
       "<style type=\"text/css\">\n",
       "</style>\n",
       "<table id=\"T_4f478_\">\n",
       "  <thead>\n",
       "    <tr>\n",
       "      <th class=\"blank level0\" >&nbsp;</th>\n",
       "      <th class=\"col_heading level0 col0\" >tickers</th>\n",
       "      <th class=\"col_heading level0 col1\" >asset_class</th>\n",
       "      <th class=\"col_heading level0 col2\" >live_prices</th>\n",
       "      <th class=\"col_heading level0 col3\" >positions</th>\n",
       "      <th class=\"col_heading level0 col4\" >value</th>\n",
       "      <th class=\"col_heading level0 col5\" >weight</th>\n",
       "    </tr>\n",
       "  </thead>\n",
       "  <tbody>\n",
       "    <tr>\n",
       "      <th id=\"T_4f478_level0_row0\" class=\"row_heading level0 row0\" >0</th>\n",
       "      <td id=\"T_4f478_row0_col0\" class=\"data row0 col0\" >IVV</td>\n",
       "      <td id=\"T_4f478_row0_col1\" class=\"data row0 col1\" >stock</td>\n",
       "      <td id=\"T_4f478_row0_col2\" class=\"data row0 col2\" >469.17</td>\n",
       "      <td id=\"T_4f478_row0_col3\" class=\"data row0 col3\" >110</td>\n",
       "      <td id=\"T_4f478_row0_col4\" class=\"data row0 col4\" >51,609.15</td>\n",
       "      <td id=\"T_4f478_row0_col5\" class=\"data row0 col5\" >59.65%</td>\n",
       "    </tr>\n",
       "    <tr>\n",
       "      <th id=\"T_4f478_level0_row1\" class=\"row_heading level0 row1\" >1</th>\n",
       "      <td id=\"T_4f478_row1_col0\" class=\"data row1 col0\" >GLD</td>\n",
       "      <td id=\"T_4f478_row1_col1\" class=\"data row1 col1\" >commodity</td>\n",
       "      <td id=\"T_4f478_row1_col2\" class=\"data row1 col2\" >174.52</td>\n",
       "      <td id=\"T_4f478_row1_col3\" class=\"data row1 col3\" >200</td>\n",
       "      <td id=\"T_4f478_row1_col4\" class=\"data row1 col4\" >34,903.60</td>\n",
       "      <td id=\"T_4f478_row1_col5\" class=\"data row1 col5\" >40.35%</td>\n",
       "    </tr>\n",
       "  </tbody>\n",
       "</table>\n"
      ],
      "text/plain": [
       "<pandas.io.formats.style.Styler at 0x7ffb0cd8abb0>"
      ]
     },
     "execution_count": 13,
     "metadata": {},
     "output_type": "execute_result"
    }
   ],
   "source": [
    "pf = pd.DataFrame.from_dict({'tickers': tickers, 'asset_class': asset_class, 'live_prices': live_prices, 'positions': positions})\n",
    "pf['value'] = pf['live_prices'] * pf['positions']\n",
    "pf['weight'] = pf['value'] / pf['value'].sum()\n",
    "pf.style.format({'live_prices': '{:,.2f}'.format, 'value': '{:,.2f}'.format, 'weight': '{:,.2%}'.format})"
   ]
  },
  {
   "cell_type": "code",
   "execution_count": 14,
   "id": "e3403ea1-ee54-4b08-802d-3370d76dbe04",
   "metadata": {},
   "outputs": [
    {
     "name": "stdout",
     "output_type": "stream",
     "text": [
      "Allocation by class:\n"
     ]
    },
    {
     "data": {
      "text/html": [
       "<style type=\"text/css\">\n",
       "</style>\n",
       "<table id=\"T_89b50_\">\n",
       "  <thead>\n",
       "    <tr>\n",
       "      <th class=\"blank level0\" >&nbsp;</th>\n",
       "      <th class=\"col_heading level0 col0\" >weight</th>\n",
       "    </tr>\n",
       "    <tr>\n",
       "      <th class=\"index_name level0\" >asset_class</th>\n",
       "      <th class=\"blank col0\" >&nbsp;</th>\n",
       "    </tr>\n",
       "  </thead>\n",
       "  <tbody>\n",
       "    <tr>\n",
       "      <th id=\"T_89b50_level0_row0\" class=\"row_heading level0 row0\" >commodity</th>\n",
       "      <td id=\"T_89b50_row0_col0\" class=\"data row0 col0\" >40.35%</td>\n",
       "    </tr>\n",
       "    <tr>\n",
       "      <th id=\"T_89b50_level0_row1\" class=\"row_heading level0 row1\" >stock</th>\n",
       "      <td id=\"T_89b50_row1_col0\" class=\"data row1 col0\" >59.65%</td>\n",
       "    </tr>\n",
       "  </tbody>\n",
       "</table>\n"
      ],
      "text/plain": [
       "<pandas.io.formats.style.Styler at 0x7ffb0d939460>"
      ]
     },
     "execution_count": 14,
     "metadata": {},
     "output_type": "execute_result"
    }
   ],
   "source": [
    "print('Allocation by class:')\n",
    "pf.groupby(['asset_class']) \\\n",
    "    .sum().drop(columns=['live_prices', 'value', 'positions']) \\\n",
    "    .style.format({'weight': '{:,.2%}'.format})"
   ]
  },
  {
   "cell_type": "markdown",
   "id": "285d5698-a9af-494e-8875-db90255ad1c5",
   "metadata": {},
   "source": [
    "# Historical data\n",
    "\n",
    "In this section we retrieve historical data for each asset for the period of **historical_data_years** and calculate basic statistics."
   ]
  },
  {
   "cell_type": "code",
   "execution_count": 15,
   "id": "77ab7b9d-45a1-4982-8303-f90f01317e8b",
   "metadata": {},
   "outputs": [
    {
     "name": "stdout",
     "output_type": "stream",
     "text": [
      "Start date: 18/11/2011 End date: 15/11/2021\n"
     ]
    }
   ],
   "source": [
    "start = datetime.now() - timedelta(days = 365 * historical_data_years)\n",
    "end = datetime.now()\n",
    "print('Start date:', start.strftime(\"%d/%m/%Y\"), 'End date:', end.strftime(\"%d/%m/%Y\"))"
   ]
  },
  {
   "cell_type": "code",
   "execution_count": 16,
   "id": "f460c700-e304-4f66-bdc3-6263692e708c",
   "metadata": {},
   "outputs": [
    {
     "data": {
      "text/html": [
       "<style type=\"text/css\">\n",
       "</style>\n",
       "<table id=\"T_2f9ae_\">\n",
       "  <thead>\n",
       "    <tr>\n",
       "      <th class=\"blank level0\" >&nbsp;</th>\n",
       "      <th class=\"col_heading level0 col0\" >tickers</th>\n",
       "      <th class=\"col_heading level0 col1\" >starting_date</th>\n",
       "      <th class=\"col_heading level0 col2\" >observations(days)</th>\n",
       "      <th class=\"col_heading level0 col3\" >annual_return</th>\n",
       "      <th class=\"col_heading level0 col4\" >variance</th>\n",
       "      <th class=\"col_heading level0 col5\" >std</th>\n",
       "    </tr>\n",
       "  </thead>\n",
       "  <tbody>\n",
       "    <tr>\n",
       "      <th id=\"T_2f9ae_level0_row0\" class=\"row_heading level0 row0\" >0</th>\n",
       "      <td id=\"T_2f9ae_row0_col0\" class=\"data row0 col0\" >IVV</td>\n",
       "      <td id=\"T_2f9ae_row0_col1\" class=\"data row0 col1\" >11/18/2011</td>\n",
       "      <td id=\"T_2f9ae_row0_col2\" class=\"data row0 col2\" >2513</td>\n",
       "      <td id=\"T_2f9ae_row0_col3\" class=\"data row0 col3\" >14.85%</td>\n",
       "      <td id=\"T_2f9ae_row0_col4\" class=\"data row0 col4\" >2.72%</td>\n",
       "      <td id=\"T_2f9ae_row0_col5\" class=\"data row0 col5\" >16.49%</td>\n",
       "    </tr>\n",
       "    <tr>\n",
       "      <th id=\"T_2f9ae_level0_row1\" class=\"row_heading level0 row1\" >1</th>\n",
       "      <td id=\"T_2f9ae_row1_col0\" class=\"data row1 col0\" >GLD</td>\n",
       "      <td id=\"T_2f9ae_row1_col1\" class=\"data row1 col1\" >11/18/2011</td>\n",
       "      <td id=\"T_2f9ae_row1_col2\" class=\"data row1 col2\" >2513</td>\n",
       "      <td id=\"T_2f9ae_row1_col3\" class=\"data row1 col3\" >1.57%</td>\n",
       "      <td id=\"T_2f9ae_row1_col4\" class=\"data row1 col4\" >2.33%</td>\n",
       "      <td id=\"T_2f9ae_row1_col5\" class=\"data row1 col5\" >15.25%</td>\n",
       "    </tr>\n",
       "  </tbody>\n",
       "</table>\n"
      ],
      "text/plain": [
       "<pandas.io.formats.style.Styler at 0x7ffb093b5fa0>"
      ]
     },
     "execution_count": 16,
     "metadata": {},
     "output_type": "execute_result"
    },
    {
     "data": {
      "image/png": "[encoded data removed]",
      "text/plain": [
       "<Figure size 1152x576 with 1 Axes>"
      ]
     },
     "metadata": {},
     "output_type": "display_data"
    }
   ],
   "source": [
    "stock_info = {'tickers': tickers, 'starting_date': [], 'observations(days)': [], 'annual_return': [], 'variance': []}\n",
    "price_hist = {}\n",
    "\n",
    "sns.set(rc = {'figure.figsize': (16,8)})\n",
    "\n",
    "for ticker in tickers:\n",
    "    tmp = si.get_data(ticker, start_date=start.strftime(\"%d/%m/%Y\"), end_date=end.strftime(\"%d/%m/%Y\"))\n",
    "    tmp['daily_change'] = tmp['close'].pct_change()\n",
    "    stock_info['starting_date'].append(tmp.index[0])\n",
    "    stock_info['annual_return'].append(tmp['daily_change'].mean() * 252)\n",
    "    stock_info['variance'].append(tmp['daily_change'].var() * 252)\n",
    "    stock_info['observations(days)'].append(len(tmp))\n",
    "    price_hist[ticker] = tmp['daily_change']\n",
    "    sns.lineplot(x=tmp.index, y='close', data=tmp, markers=True, label=ticker)\n",
    "    \n",
    "price_hist = pd.DataFrame.from_dict(price_hist)\n",
    "\n",
    "df = pd.DataFrame.from_dict(stock_info)\n",
    "df['std'] = df['variance'].apply(np.sqrt)\n",
    "df['starting_date'] = df['starting_date'].dt.strftime('%m/%d/%Y')\n",
    "df.style.format({'annual_return': '{:,.2%}'.format, 'variance': '{:,.2%}'.format, 'std': '{:,.2%}'.format})"
   ]
  },
  {
   "cell_type": "markdown",
   "id": "9d9be3ec-e641-4466-b798-14e6b93797f1",
   "metadata": {},
   "source": [
    "# Correlation among portfolio assets"
   ]
  },
  {
   "cell_type": "code",
   "execution_count": 17,
   "id": "8c3e72c3-7007-46e5-9dae-e6c487a8957f",
   "metadata": {},
   "outputs": [
    {
     "data": {
      "text/plain": [
       "Text(0.5, 1.0, 'Portfolio Pearson correlation')"
      ]
     },
     "execution_count": 17,
     "metadata": {},
     "output_type": "execute_result"
    },
    {
     "data": {
      "image/png": "[encoded data removed]",
      "text/plain": [
       "<Figure size 720x576 with 2 Axes>"
      ]
     },
     "metadata": {},
     "output_type": "display_data"
    }
   ],
   "source": [
    "sns.set(rc = {'figure.figsize': (10, 8)})\n",
    "sns.heatmap(\n",
    "    price_hist.corr(method='pearson'), \n",
    "    annot=True, \n",
    "    square=True, \n",
    "    fmt=\".2%\", \n",
    "    cmap=sns.color_palette(\"coolwarm\", as_cmap=True),\n",
    "    vmin=-1, vmax=1\n",
    ").set_title('Portfolio Pearson correlation')"
   ]
  },
  {
   "cell_type": "markdown",
   "id": "690d3891-92f3-4c40-a0e3-ff5d8f0a2567",
   "metadata": {},
   "source": [
    "# Caculate risk and return of the portfolio based on historical data"
   ]
  },
  {
   "cell_type": "code",
   "execution_count": 18,
   "id": "c7ca859c-de7e-4c20-8721-fc4e511aa5e5",
   "metadata": {},
   "outputs": [
    {
     "name": "stdout",
     "output_type": "stream",
     "text": [
      "Portfolio_return: 9.49% \n",
      "Portfolio_risk: 11.81% \n",
      "Sharpe ratio: 0.80\n"
     ]
    }
   ],
   "source": [
    "p_return = calculate_return(df['annual_return'].to_numpy(), pf['weight'].to_numpy())\n",
    "p_risk = calculate_volatility((price_hist.cov() * 252).to_numpy(), pf['weight'].to_numpy())\n",
    "print(\n",
    "    \"Portfolio_return:\", \"{0:.2f}%\".format(p_return * 100), \n",
    "    \"\\nPortfolio_risk:\", \"{0:.2f}%\".format(p_risk * 100),\n",
    "    \"\\nSharpe ratio:\", \"{0:.2f}\".format(calculate_sharpe_ratio(p_return, p_risk)),\n",
    ")"
   ]
  },
  {
   "cell_type": "markdown",
   "id": "8b99e9fb-d30c-46ab-af46-0d780ac522c7",
   "metadata": {},
   "source": [
    "# PV&FV + Confidence intervals\n",
    "\n",
    "Let's calculate the present and future value of portfolio based on **simulations_number** of portfolio return simulations.\n",
    "\n",
    "Additionally we will try to guess how much money we will end up with and how sure we are about it."
   ]
  },
  {
   "cell_type": "code",
   "execution_count": null,
   "id": "4662c878-a230-4028-97af-50482e44b5bc",
   "metadata": {},
   "outputs": [],
   "source": [
    "ending_balances = simulate_ending_balances(\n",
    "    simulations_number, \n",
    "    investment_years, \n",
    "    annual_payment, \n",
    "    initial_investment, \n",
    "    p_return, \n",
    "    p_risk,\n",
    ")\n",
    "get_percentile_fv_and_pv = lambda balances, rate, years, percentile: [\n",
    "        np.percentile(balances, percentile), \n",
    "        npf.pv(rate, years, 0, fv=-np.percentile(balances, percentile))\n",
    "]\n",
    "\n",
    "print(\n",
    "    \"Your total investment over %d years is %d\" % \n",
    "    (investment_years, initial_investment + annual_payment * investment_years)\n",
    ")\n",
    "print(\n",
    "    \"\\nEndingBalance_Mean(FV):\", \"{0:.2f}\".format(ending_balances.mean()), \n",
    "    \"\\nEndingBalance_Mean(PV):\", \"{0:.2f}\".format(npf.pv(risk_free_rate, investment_years, 0, fv=-ending_balances.mean())),\n",
    ")\n",
    "print(\"\\nWith confidence of [col_name_here] you'll end up with: \")\n",
    "pd.DataFrame.from_dict({\n",
    "    \"99%\": get_percentile_fv_and_pv(ending_balances, risk_free_rate, investment_years, 1),\n",
    "    \"95%\": get_percentile_fv_and_pv(ending_balances, risk_free_rate, investment_years, 5),\n",
    "    \"90%\": get_percentile_fv_and_pv(ending_balances, risk_free_rate, investment_years, 10),\n",
    "    \"80%\": get_percentile_fv_and_pv(ending_balances, risk_free_rate, investment_years, 20),\n",
    "    \"50%\": get_percentile_fv_and_pv(ending_balances, risk_free_rate, investment_years, 50),\n",
    "    \"20%\": get_percentile_fv_and_pv(ending_balances, risk_free_rate, investment_years, 80),\n",
    "}).set_index([pd.Index(['FV', 'PV'])])"
   ]
  },
  {
   "cell_type": "markdown",
   "id": "8db1ab81-c83b-4da9-abbd-c252fa0722bd",
   "metadata": {},
   "source": [
    "# [Efficient Frontier](https://www.investopedia.com/terms/e/efficientfrontier.asp)"
   ]
  },
  {
   "cell_type": "markdown",
   "id": "37fc6c3e-aa52-4869-b734-4d936842116c",
   "metadata": {},
   "source": [
    "## Searching for best portfolio\n",
    "\n",
    "Lets find best portfolio generating different combinations of weights for assets. Number of simulated portfolios is **simulations_number**. The best portfolio has the biggest [Sharpe ratio](https://www.investopedia.com/terms/s/sharperatio.asp)"
   ]
  },
  {
   "cell_type": "code",
   "execution_count": 12,
   "id": "072bd1b6-00fa-432a-985c-b1942f693e1c",
   "metadata": {},
   "outputs": [
    {
     "name": "stdout",
     "output_type": "stream",
     "text": [
      "Best portfolio:\n",
      "\n"
     ]
    },
    {
     "data": {
      "text/html": [
       "<div>\n",
       "<style scoped>\n",
       "    .dataframe tbody tr th:only-of-type {\n",
       "        vertical-align: middle;\n",
       "    }\n",
       "\n",
       "    .dataframe tbody tr th {\n",
       "        vertical-align: top;\n",
       "    }\n",
       "\n",
       "    .dataframe thead th {\n",
       "        text-align: right;\n",
       "    }\n",
       "</style>\n",
       "<table border=\"1\" class=\"dataframe\">\n",
       "  <thead>\n",
       "    <tr style=\"text-align: right;\">\n",
       "      <th></th>\n",
       "      <th>IVV</th>\n",
       "      <th>GLD</th>\n",
       "      <th>risk</th>\n",
       "      <th>return</th>\n",
       "      <th>sharpe_ratio</th>\n",
       "    </tr>\n",
       "  </thead>\n",
       "  <tbody>\n",
       "    <tr>\n",
       "      <th>37140</th>\n",
       "      <td>0.929</td>\n",
       "      <td>0.071</td>\n",
       "      <td>0.156</td>\n",
       "      <td>0.134</td>\n",
       "      <td>0.858</td>\n",
       "    </tr>\n",
       "  </tbody>\n",
       "</table>\n",
       "</div>"
      ],
      "text/plain": [
       "         IVV    GLD   risk  return  sharpe_ratio\n",
       "37140  0.929  0.071  0.156   0.134         0.858"
      ]
     },
     "execution_count": 12,
     "metadata": {},
     "output_type": "execute_result"
    }
   ],
   "source": [
    "rand_portfolios = generate_portfolios(\n",
    "    tickers, \n",
    "    (price_hist.cov() * 252).to_numpy(), \n",
    "    df['annual_return'].to_numpy(), \n",
    "    simulations_number,\n",
    ")\n",
    "best_portfolio = rand_portfolios.iloc[[rand_portfolios['sharpe_ratio'].argmax()]]\n",
    "print(\"Best portfolio:\\n\")\n",
    "pd.DataFrame(best_portfolio).round(decimals=3)"
   ]
  },
  {
   "cell_type": "markdown",
   "id": "0db354c8-b05a-4afd-9f6b-08c99e10b8e2",
   "metadata": {},
   "source": [
    "## Optimize by [Sharpe ratio](https://www.investopedia.com/terms/s/sharperatio.asp)"
   ]
  },
  {
   "cell_type": "code",
   "execution_count": 14,
   "id": "61c82d87-d6eb-4e85-a063-ec029cd8d185",
   "metadata": {},
   "outputs": [
    {
     "name": "stdout",
     "output_type": "stream",
     "text": [
      "Best portfolio optimized:\n",
      "\n"
     ]
    },
    {
     "data": {
      "text/html": [
       "<div>\n",
       "<style scoped>\n",
       "    .dataframe tbody tr th:only-of-type {\n",
       "        vertical-align: middle;\n",
       "    }\n",
       "\n",
       "    .dataframe tbody tr th {\n",
       "        vertical-align: top;\n",
       "    }\n",
       "\n",
       "    .dataframe thead th {\n",
       "        text-align: right;\n",
       "    }\n",
       "</style>\n",
       "<table border=\"1\" class=\"dataframe\">\n",
       "  <thead>\n",
       "    <tr style=\"text-align: right;\">\n",
       "      <th></th>\n",
       "      <th>IVV</th>\n",
       "      <th>GLD</th>\n",
       "      <th>risk</th>\n",
       "      <th>return</th>\n",
       "      <th>sharp_ratio</th>\n",
       "    </tr>\n",
       "  </thead>\n",
       "  <tbody>\n",
       "    <tr>\n",
       "      <th>0</th>\n",
       "      <td>0.929</td>\n",
       "      <td>0.071</td>\n",
       "      <td>0.156</td>\n",
       "      <td>0.134</td>\n",
       "      <td>0.858</td>\n",
       "    </tr>\n",
       "  </tbody>\n",
       "</table>\n",
       "</div>"
      ],
      "text/plain": [
       "     IVV    GLD   risk  return  sharp_ratio\n",
       "0  0.929  0.071  0.156   0.134        0.858"
      ]
     },
     "execution_count": 14,
     "metadata": {},
     "output_type": "execute_result"
    }
   ],
   "source": [
    "cons = ({'type': 'eq', 'fun': lambda weights: np.sum(weights)-1})\n",
    "bounds = [(0, 1) for ticker in tickers]\n",
    "init_guess = [0.25 for ticker in tickers]\n",
    "\n",
    "print(\"Best portfolio optimized:\\n\")\n",
    "best_portfolio_optimized = get_best_portfolio_optimized(\n",
    "    tickers, \n",
    "    (price_hist.cov() * 252).to_numpy(), \n",
    "    df['annual_return'].to_numpy(),\n",
    "    neg_sharpe,\n",
    "    'SLSQP',\n",
    "    cons,\n",
    "    bounds\n",
    ").round(decimals=3)\n",
    "best_portfolio_optimized"
   ]
  },
  {
   "cell_type": "code",
   "execution_count": 15,
   "id": "c692841d-d1a7-4629-bfbd-5666f40ffd99",
   "metadata": {},
   "outputs": [
    {
     "data": {
      "image/png": "[encoded data removed]",
      "text/plain": [
       "<Figure size 1080x576 with 2 Axes>"
      ]
     },
     "metadata": {},
     "output_type": "display_data"
    }
   ],
   "source": [
    "fig = plt.figure(figsize=(15,8))\n",
    "fig.suptitle('Efficient Frontier', fontsize=16)\n",
    "plt.scatter(rand_portfolios['risk'], rand_portfolios['return'], c=rand_portfolios['sharpe_ratio'], cmap='viridis')\n",
    "plt.colorbar(label='Sharpe Ratio')\n",
    "plt.xlabel('Risk')\n",
    "plt.ylabel('Return')\n",
    "plt.scatter(best_portfolio['risk'], best_portfolio['return'], c='red', s=50) # red dot\n",
    "plt.scatter(best_portfolio_optimized['risk'], best_portfolio_optimized['return'], c='red', s=100, marker='*') # red star\n",
    "plt.show()"
   ]
  },
  {
   "cell_type": "markdown",
   "id": "b6b2eecc-9bc0-46c3-82fc-070ee5239a87",
   "metadata": {},
   "source": [
    "# References\n",
    "https://codingandfun.com/portfolio-risk-and-returns-python/\n",
    "\n",
    "https://www.investopedia.com/ask/answers/041515/what-difference-between-variance-and-covariance.asp\n",
    "\n",
    "https://www.investopedia.com/terms/c/correlationcoefficient.asp\n",
    "\n",
    "https://www.investopedia.com/ask/answers/041315/how-covariance-used-portfolio-theory.asp\n",
    "\n",
    "https://towardsdatascience.com/how-to-construct-an-efficient-portfolio-using-the-modern-portfolio-theory-in-python-5c5ba2b0cff4\n",
    "\n",
    "https://medium.com/@luo9137/how-to-generate-these-popular-stock-terms-using-python-4e69c6acc6b3\n",
    "\n",
    "https://amangupta16.medium.com/portfolio-optimization-using-python-part-1-2-9fd80097a606\n",
    "\n",
    "https://medium.com/python-data/effient-frontier-in-python-34b0c3043314\n",
    "\n",
    "https://towardsdatascience.com/python-markowitz-optimization-b5e1623060f5"
   ]
  },
  {
   "cell_type": "code",
   "execution_count": null,
   "id": "aca3824f",
   "metadata": {},
   "outputs": [],
   "source": []
  }
 ],
 "metadata": {
  "kernelspec": {
   "display_name": "base",
   "language": "python",
   "name": "base"
  },
  "language_info": {
   "codemirror_mode": {
    "name": "ipython",
    "version": 3
   },
   "file_extension": ".py",
   "mimetype": "text/x-python",
   "name": "python",
   "nbconvert_exporter": "python",
   "pygments_lexer": "ipython3",
   "version": "3.8.8"
  }
 },
 "nbformat": 4,
 "nbformat_minor": 5
}
